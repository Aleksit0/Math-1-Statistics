{
 "cells": [
  {
   "cell_type": "code",
   "execution_count": 58,
   "metadata": {},
   "outputs": [],
   "source": [
    "import pandas as pd\n",
    "import numpy as np\n",
    "import matplotlib.pyplot as plt"
   ]
  },
  {
   "cell_type": "code",
   "execution_count": 59,
   "metadata": {},
   "outputs": [],
   "source": [
    "data_1 = pd.read_csv('M1S-1.csv')"
   ]
  },
  {
   "cell_type": "code",
   "execution_count": 60,
   "metadata": {},
   "outputs": [],
   "source": [
    "data_1 = data_1.fillna(0)"
   ]
  },
  {
   "cell_type": "code",
   "execution_count": 61,
   "metadata": {},
   "outputs": [
    {
     "data": {
      "text/html": [
       "<div>\n",
       "<style scoped>\n",
       "    .dataframe tbody tr th:only-of-type {\n",
       "        vertical-align: middle;\n",
       "    }\n",
       "\n",
       "    .dataframe tbody tr th {\n",
       "        vertical-align: top;\n",
       "    }\n",
       "\n",
       "    .dataframe thead th {\n",
       "        text-align: right;\n",
       "    }\n",
       "</style>\n",
       "<table border=\"1\" class=\"dataframe\">\n",
       "  <thead>\n",
       "    <tr style=\"text-align: right;\">\n",
       "      <th></th>\n",
       "      <th>Value (Xi)</th>\n",
       "      <th>Data</th>\n",
       "      <th>Frequency (fi)</th>\n",
       "      <th>Cumulative freq. (fi^k)</th>\n",
       "      <th>Relative freq. (fri=fi\\N)</th>\n",
       "      <th>Cumulative rel. freq. (fri^k)</th>\n",
       "    </tr>\n",
       "  </thead>\n",
       "  <tbody>\n",
       "    <tr>\n",
       "      <th>0</th>\n",
       "      <td>X1 = 1</td>\n",
       "      <td>0.0</td>\n",
       "      <td>f1 = 0</td>\n",
       "      <td>f1^k = 0</td>\n",
       "      <td>fr1 = 0</td>\n",
       "      <td>fr1^k = 0</td>\n",
       "    </tr>\n",
       "    <tr>\n",
       "      <th>1</th>\n",
       "      <td>X2 = 2</td>\n",
       "      <td>7.0</td>\n",
       "      <td>f2 = 7</td>\n",
       "      <td>f2^k = 7</td>\n",
       "      <td>fr2 = 0.22</td>\n",
       "      <td>fr2^k = 0.22</td>\n",
       "    </tr>\n",
       "    <tr>\n",
       "      <th>2</th>\n",
       "      <td>X3 = 3</td>\n",
       "      <td>16.0</td>\n",
       "      <td>f3 = 16</td>\n",
       "      <td>f3^k = 23</td>\n",
       "      <td>fr3 = 0.50</td>\n",
       "      <td>fr3^k = 0.72</td>\n",
       "    </tr>\n",
       "    <tr>\n",
       "      <th>3</th>\n",
       "      <td>X4 = 4</td>\n",
       "      <td>6.0</td>\n",
       "      <td>f4 = 6</td>\n",
       "      <td>f4^k = 29</td>\n",
       "      <td>fr4 = 0.19</td>\n",
       "      <td>fr4^k = 0.91</td>\n",
       "    </tr>\n",
       "    <tr>\n",
       "      <th>4</th>\n",
       "      <td>X5 = 5</td>\n",
       "      <td>3.0</td>\n",
       "      <td>f5 = 3</td>\n",
       "      <td>f5^k = 32</td>\n",
       "      <td>fr5 = 0.09</td>\n",
       "      <td>fr5^k = 1</td>\n",
       "    </tr>\n",
       "    <tr>\n",
       "      <th>5</th>\n",
       "      <td>SUM</td>\n",
       "      <td>0.0</td>\n",
       "      <td>N = 32</td>\n",
       "      <td>0</td>\n",
       "      <td>1</td>\n",
       "      <td>0</td>\n",
       "    </tr>\n",
       "  </tbody>\n",
       "</table>\n",
       "</div>"
      ],
      "text/plain": [
       "  Value (Xi)  Data Frequency (fi) Cumulative freq. (fi^k)  \\\n",
       "0     X1 = 1   0.0         f1 = 0                f1^k = 0   \n",
       "1     X2 = 2   7.0         f2 = 7                f2^k = 7   \n",
       "2     X3 = 3  16.0        f3 = 16               f3^k = 23   \n",
       "3     X4 = 4   6.0         f4 = 6               f4^k = 29   \n",
       "4     X5 = 5   3.0         f5 = 3               f5^k = 32   \n",
       "5        SUM   0.0         N = 32                       0   \n",
       "\n",
       "  Relative freq. (fri=fi\\N) Cumulative rel. freq. (fri^k)  \n",
       "0                   fr1 = 0                     fr1^k = 0  \n",
       "1                fr2 = 0.22                  fr2^k = 0.22  \n",
       "2                fr3 = 0.50                  fr3^k = 0.72  \n",
       "3                fr4 = 0.19                  fr4^k = 0.91  \n",
       "4                fr5 = 0.09                     fr5^k = 1  \n",
       "5                         1                             0  "
      ]
     },
     "execution_count": 61,
     "metadata": {},
     "output_type": "execute_result"
    }
   ],
   "source": [
    "data_1"
   ]
  },
  {
   "cell_type": "markdown",
   "metadata": {},
   "source": [
    "### Plotting"
   ]
  },
  {
   "cell_type": "code",
   "execution_count": null,
   "metadata": {},
   "outputs": [],
   "source": []
  },
  {
   "cell_type": "code",
   "execution_count": null,
   "metadata": {},
   "outputs": [],
   "source": []
  },
  {
   "cell_type": "code",
   "execution_count": null,
   "metadata": {},
   "outputs": [],
   "source": []
  },
  {
   "cell_type": "code",
   "execution_count": null,
   "metadata": {},
   "outputs": [],
   "source": []
  }
 ],
 "metadata": {
  "kernelspec": {
   "display_name": "Python 3",
   "language": "python",
   "name": "python3"
  },
  "language_info": {
   "codemirror_mode": {
    "name": "ipython",
    "version": 3
   },
   "file_extension": ".py",
   "mimetype": "text/x-python",
   "name": "python",
   "nbconvert_exporter": "python",
   "pygments_lexer": "ipython3",
   "version": "3.8.3"
  }
 },
 "nbformat": 4,
 "nbformat_minor": 4
}
